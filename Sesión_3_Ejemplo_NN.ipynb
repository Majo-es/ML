{
  "nbformat": 4,
  "nbformat_minor": 0,
  "metadata": {
    "colab": {
      "provenance": []
    },
    "kernelspec": {
      "name": "python3",
      "display_name": "Python 3"
    },
    "language_info": {
      "name": "python"
    }
  },
  "cells": [
    {
      "cell_type": "code",
      "execution_count": 1,
      "metadata": {
        "id": "ZnwyJbokV6rh"
      },
      "outputs": [],
      "source": [
        "from sklearn.model_selection import train_test_split\n",
        "from sklearn.linear_model import LinearRegression\n",
        "from sklearn.metrics import mean_squared_error\n",
        "import pandas as pd\n",
        "import matplotlib.pyplot as plt\n",
        "\n",
        "df = pd.read_csv(\"https://raw.githubusercontent.com/selva86/datasets/master/Sacramento.csv\")"
      ]
    },
    {
      "cell_type": "markdown",
      "source": [
        "## Creación de la red neuronal y evaluación\n",
        "\n"
      ],
      "metadata": {
        "id": "nTSBDFSHLIFg"
      }
    },
    {
      "cell_type": "code",
      "source": [
        "import tensorflow as tf\n",
        "from sklearn.model_selection import train_test_split\n",
        "from sklearn.preprocessing import StandardScaler\n",
        "\n",
        "features = df[['sqft']]\n",
        "labels = df['price']\n",
        "\n",
        "# Normaliza los datos\n",
        "scaler = StandardScaler()\n",
        "features_scaled = scaler.fit_transform(features)\n",
        "\n",
        "# Dividir el conjunto de datos en entrenamiento y prueba\n",
        "X_train, X_test, y_train, y_test = train_test_split(features_scaled, labels, test_size=0.2, random_state=42)"
      ],
      "metadata": {
        "id": "i2vxnVHioyne"
      },
      "execution_count": null,
      "outputs": []
    },
    {
      "cell_type": "code",
      "source": [
        "# Construye el modelo de red neuronal\n",
        "# 1 layer that is 6\n",
        "model = tf.keras.Sequential([\n",
        "    tf.keras.layers.Dense(6, activation='relu', input_shape=(X_train.shape[1],)),\n",
        "    tf.keras.layers.Dense(1)  # Capa de salida sin función de activación para la regresión\n",
        "])\n",
        "# Rectified Linear Unit (ReLU) function: f(x) = max(0, x)\n",
        "\n",
        "\n",
        "# Compila el modelo\n",
        "model.compile(optimizer='adam', loss='mean_squared_error', metrics=['mae'])\n",
        "\n",
        "# Entrenamiento del modelo\n",
        "model.fit(X_train, y_train, epochs=50, batch_size=32, validation_data=(X_test, y_test))\n",
        "\n",
        "# Evaluar el modelo en el conjunto de prueba\n",
        "loss, mae = model.evaluate(X_test, y_test)\n",
        "print(f'Loss en el conjunto de prueba: {loss}')\n",
        "print(f'MAE en el conjunto de prueba: {mae}')"
      ],
      "metadata": {
        "id": "mzj3DIbaWaYA",
        "colab": {
          "base_uri": "https://localhost:8080/"
        },
        "outputId": "9bf870ce-cd81-47ab-d966-17edfee279c5"
      },
      "execution_count": null,
      "outputs": [
        {
          "output_type": "stream",
          "name": "stdout",
          "text": [
            "Epoch 1/50\n",
            "24/24 [==============================] - 1s 15ms/step - loss: 77493444608.0000 - mae: 245733.7188 - val_loss: 80106840064.0000 - val_mae: 250357.7969\n",
            "Epoch 2/50\n",
            "24/24 [==============================] - 0s 5ms/step - loss: 77493379072.0000 - mae: 245733.6094 - val_loss: 80106782720.0000 - val_mae: 250357.6875\n",
            "Epoch 3/50\n",
            "24/24 [==============================] - 0s 5ms/step - loss: 77493338112.0000 - mae: 245733.5000 - val_loss: 80106725376.0000 - val_mae: 250357.5625\n",
            "Epoch 4/50\n",
            "24/24 [==============================] - 0s 5ms/step - loss: 77493280768.0000 - mae: 245733.3750 - val_loss: 80106676224.0000 - val_mae: 250357.4688\n",
            "Epoch 5/50\n",
            "24/24 [==============================] - 0s 5ms/step - loss: 77493239808.0000 - mae: 245733.2812 - val_loss: 80106618880.0000 - val_mae: 250357.3750\n",
            "Epoch 6/50\n",
            "24/24 [==============================] - 0s 5ms/step - loss: 77493174272.0000 - mae: 245733.1719 - val_loss: 80106561536.0000 - val_mae: 250357.2812\n",
            "Epoch 7/50\n",
            "24/24 [==============================] - 0s 4ms/step - loss: 77493108736.0000 - mae: 245733.0938 - val_loss: 80106512384.0000 - val_mae: 250357.1719\n",
            "Epoch 8/50\n",
            "24/24 [==============================] - 0s 4ms/step - loss: 77493059584.0000 - mae: 245732.9844 - val_loss: 80106455040.0000 - val_mae: 250357.0469\n",
            "Epoch 9/50\n",
            "24/24 [==============================] - 0s 6ms/step - loss: 77493018624.0000 - mae: 245732.8906 - val_loss: 80106397696.0000 - val_mae: 250356.9688\n",
            "Epoch 10/50\n",
            "24/24 [==============================] - 0s 5ms/step - loss: 77492953088.0000 - mae: 245732.7656 - val_loss: 80106340352.0000 - val_mae: 250356.8594\n",
            "Epoch 11/50\n",
            "24/24 [==============================] - 0s 6ms/step - loss: 77492887552.0000 - mae: 245732.7031 - val_loss: 80106274816.0000 - val_mae: 250356.7344\n",
            "Epoch 12/50\n",
            "24/24 [==============================] - 0s 6ms/step - loss: 77492830208.0000 - mae: 245732.5312 - val_loss: 80106225664.0000 - val_mae: 250356.6406\n",
            "Epoch 13/50\n",
            "24/24 [==============================] - 0s 5ms/step - loss: 77492789248.0000 - mae: 245732.4219 - val_loss: 80106168320.0000 - val_mae: 250356.4844\n",
            "Epoch 14/50\n",
            "24/24 [==============================] - 0s 5ms/step - loss: 77492715520.0000 - mae: 245732.2969 - val_loss: 80106094592.0000 - val_mae: 250356.3594\n",
            "Epoch 15/50\n",
            "24/24 [==============================] - 0s 5ms/step - loss: 77492633600.0000 - mae: 245732.1875 - val_loss: 80106029056.0000 - val_mae: 250356.2344\n",
            "Epoch 16/50\n",
            "24/24 [==============================] - 0s 6ms/step - loss: 77492584448.0000 - mae: 245732.0625 - val_loss: 80105963520.0000 - val_mae: 250356.1094\n",
            "Epoch 17/50\n",
            "24/24 [==============================] - 0s 6ms/step - loss: 77492510720.0000 - mae: 245731.8594 - val_loss: 80105881600.0000 - val_mae: 250355.9531\n",
            "Epoch 18/50\n",
            "24/24 [==============================] - 0s 4ms/step - loss: 77492453376.0000 - mae: 245731.7656 - val_loss: 80105816064.0000 - val_mae: 250355.8438\n",
            "Epoch 19/50\n",
            "24/24 [==============================] - 0s 4ms/step - loss: 77492363264.0000 - mae: 245731.6094 - val_loss: 80105734144.0000 - val_mae: 250355.6719\n",
            "Epoch 20/50\n",
            "24/24 [==============================] - 0s 4ms/step - loss: 77492297728.0000 - mae: 245731.4531 - val_loss: 80105652224.0000 - val_mae: 250355.5156\n",
            "Epoch 21/50\n",
            "24/24 [==============================] - 0s 3ms/step - loss: 77492207616.0000 - mae: 245731.3125 - val_loss: 80105578496.0000 - val_mae: 250355.3594\n",
            "Epoch 22/50\n",
            "24/24 [==============================] - 0s 3ms/step - loss: 77492125696.0000 - mae: 245731.1406 - val_loss: 80105496576.0000 - val_mae: 250355.2031\n",
            "Epoch 23/50\n",
            "24/24 [==============================] - 0s 4ms/step - loss: 77492043776.0000 - mae: 245730.9844 - val_loss: 80105406464.0000 - val_mae: 250355.0156\n",
            "Epoch 24/50\n",
            "24/24 [==============================] - 0s 3ms/step - loss: 77491945472.0000 - mae: 245730.7656 - val_loss: 80105316352.0000 - val_mae: 250354.8438\n",
            "Epoch 25/50\n",
            "24/24 [==============================] - 0s 4ms/step - loss: 77491863552.0000 - mae: 245730.5938 - val_loss: 80105218048.0000 - val_mae: 250354.6719\n",
            "Epoch 26/50\n",
            "24/24 [==============================] - 0s 4ms/step - loss: 77491757056.0000 - mae: 245730.4219 - val_loss: 80105127936.0000 - val_mae: 250354.5000\n",
            "Epoch 27/50\n",
            "24/24 [==============================] - 0s 4ms/step - loss: 77491675136.0000 - mae: 245730.2500 - val_loss: 80105029632.0000 - val_mae: 250354.3125\n",
            "Epoch 28/50\n",
            "24/24 [==============================] - 0s 4ms/step - loss: 77491576832.0000 - mae: 245730.0781 - val_loss: 80104931328.0000 - val_mae: 250354.0781\n",
            "Epoch 29/50\n",
            "24/24 [==============================] - 0s 3ms/step - loss: 77491478528.0000 - mae: 245729.8438 - val_loss: 80104824832.0000 - val_mae: 250353.9062\n",
            "Epoch 30/50\n",
            "24/24 [==============================] - 0s 3ms/step - loss: 77491372032.0000 - mae: 245729.6250 - val_loss: 80104726528.0000 - val_mae: 250353.6875\n",
            "Epoch 31/50\n",
            "24/24 [==============================] - 0s 4ms/step - loss: 77491257344.0000 - mae: 245729.4375 - val_loss: 80104603648.0000 - val_mae: 250353.4688\n",
            "Epoch 32/50\n",
            "24/24 [==============================] - 0s 4ms/step - loss: 77491167232.0000 - mae: 245729.2188 - val_loss: 80104497152.0000 - val_mae: 250353.2656\n",
            "Epoch 33/50\n",
            "24/24 [==============================] - 0s 3ms/step - loss: 77491036160.0000 - mae: 245728.9688 - val_loss: 80104382464.0000 - val_mae: 250353.0312\n",
            "Epoch 34/50\n",
            "24/24 [==============================] - 0s 3ms/step - loss: 77490929664.0000 - mae: 245728.7656 - val_loss: 80104267776.0000 - val_mae: 250352.7969\n",
            "Epoch 35/50\n",
            "24/24 [==============================] - 0s 3ms/step - loss: 77490806784.0000 - mae: 245728.5312 - val_loss: 80104144896.0000 - val_mae: 250352.5312\n",
            "Epoch 36/50\n",
            "24/24 [==============================] - 0s 4ms/step - loss: 77490700288.0000 - mae: 245728.2500 - val_loss: 80104013824.0000 - val_mae: 250352.3281\n",
            "Epoch 37/50\n",
            "24/24 [==============================] - 0s 3ms/step - loss: 77490561024.0000 - mae: 245728.0156 - val_loss: 80103882752.0000 - val_mae: 250352.0625\n",
            "Epoch 38/50\n",
            "24/24 [==============================] - 0s 4ms/step - loss: 77490429952.0000 - mae: 245727.7812 - val_loss: 80103751680.0000 - val_mae: 250351.8125\n",
            "Epoch 39/50\n",
            "24/24 [==============================] - 0s 4ms/step - loss: 77490290688.0000 - mae: 245727.5469 - val_loss: 80103612416.0000 - val_mae: 250351.5469\n",
            "Epoch 40/50\n",
            "24/24 [==============================] - 0s 3ms/step - loss: 77490159616.0000 - mae: 245727.2344 - val_loss: 80103464960.0000 - val_mae: 250351.2656\n",
            "Epoch 41/50\n",
            "24/24 [==============================] - 0s 4ms/step - loss: 77490012160.0000 - mae: 245727.0156 - val_loss: 80103309312.0000 - val_mae: 250350.9688\n",
            "Epoch 42/50\n",
            "24/24 [==============================] - 0s 4ms/step - loss: 77489864704.0000 - mae: 245726.7188 - val_loss: 80103145472.0000 - val_mae: 250350.6719\n",
            "Epoch 43/50\n",
            "24/24 [==============================] - 0s 3ms/step - loss: 77489700864.0000 - mae: 245726.3906 - val_loss: 80102989824.0000 - val_mae: 250350.3750\n",
            "Epoch 44/50\n",
            "24/24 [==============================] - 0s 4ms/step - loss: 77489520640.0000 - mae: 245726.0938 - val_loss: 80102809600.0000 - val_mae: 250350.0312\n",
            "Epoch 45/50\n",
            "24/24 [==============================] - 0s 3ms/step - loss: 77489373184.0000 - mae: 245725.7188 - val_loss: 80102629376.0000 - val_mae: 250349.7188\n",
            "Epoch 46/50\n",
            "24/24 [==============================] - 0s 3ms/step - loss: 77489184768.0000 - mae: 245725.4219 - val_loss: 80102440960.0000 - val_mae: 250349.3750\n",
            "Epoch 47/50\n",
            "24/24 [==============================] - 0s 3ms/step - loss: 77488996352.0000 - mae: 245725.0938 - val_loss: 80102244352.0000 - val_mae: 250349.0312\n",
            "Epoch 48/50\n",
            "24/24 [==============================] - 0s 4ms/step - loss: 77488799744.0000 - mae: 245724.7188 - val_loss: 80102055936.0000 - val_mae: 250348.6406\n",
            "Epoch 49/50\n",
            "24/24 [==============================] - 0s 3ms/step - loss: 77488619520.0000 - mae: 245724.3438 - val_loss: 80101842944.0000 - val_mae: 250348.2812\n",
            "Epoch 50/50\n",
            "24/24 [==============================] - 0s 3ms/step - loss: 77488406528.0000 - mae: 245723.9844 - val_loss: 80101638144.0000 - val_mae: 250347.8906\n",
            "6/6 [==============================] - 0s 3ms/step - loss: 80101638144.0000 - mae: 250347.8906\n",
            "Loss en el conjunto de prueba: 80101638144.0\n",
            "MAE en el conjunto de prueba: 250347.890625\n"
          ]
        }
      ]
    }
  ]
}