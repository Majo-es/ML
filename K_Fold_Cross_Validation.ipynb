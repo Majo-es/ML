{
  "nbformat": 4,
  "nbformat_minor": 0,
  "metadata": {
    "colab": {
      "provenance": []
    },
    "kernelspec": {
      "name": "python3",
      "display_name": "Python 3"
    },
    "language_info": {
      "name": "python"
    }
  },
  "cells": [
    {
      "cell_type": "markdown",
      "source": [
        "[California Housing Dataset](https://inria.github.io/scikit-learn-mooc/python_scripts/datasets_california_housing.html)"
      ],
      "metadata": {
        "id": "uLYvFgH1trLB"
      }
    },
    {
      "cell_type": "markdown",
      "source": [
        "### Loading the dataset"
      ],
      "metadata": {
        "id": "yYA1IYLUuCBf"
      }
    },
    {
      "cell_type": "code",
      "execution_count": 1,
      "metadata": {
        "id": "xd0q1rSMtZZh"
      },
      "outputs": [],
      "source": [
        "from sklearn.datasets import fetch_california_housing\n",
        "data = fetch_california_housing()"
      ]
    },
    {
      "cell_type": "markdown",
      "source": [
        "### Preparing the data\n"
      ],
      "metadata": {
        "id": "ulHiGfg5uEGB"
      }
    },
    {
      "cell_type": "code",
      "source": [
        "import pandas as pd\n",
        "X = pd.DataFrame(data.data, columns=data.feature_names)\n",
        "y = data.target"
      ],
      "metadata": {
        "id": "jBbkA93auKM6"
      },
      "execution_count": 2,
      "outputs": []
    },
    {
      "cell_type": "markdown",
      "source": [
        "### Setting up K-Fold Cross-Validation"
      ],
      "metadata": {
        "id": "zFQyyaNwuQsW"
      }
    },
    {
      "cell_type": "code",
      "source": [
        "from sklearn.model_selection import KFold # KFold class\n",
        "# variable 'k' to 5 -> the number of folds for the KFold cross-validator\n",
        "k = 5\n",
        "# creates an instance of the KFold class, specifying 'k' as the number of splits, enabling shuffling, and setting the random state to 42.\n",
        "kf = KFold(n_splits=k, shuffle=True, random_state=42)"
      ],
      "metadata": {
        "id": "xptN64iBuUu3"
      },
      "execution_count": 3,
      "outputs": []
    },
    {
      "cell_type": "markdown",
      "source": [
        "### Initializing the model"
      ],
      "metadata": {
        "id": "rgtXMDsauqhZ"
      }
    },
    {
      "cell_type": "code",
      "source": [
        "from sklearn.linear_model import LinearRegression # LinearRegression class\n",
        "# variable -> model\n",
        "model = LinearRegression()"
      ],
      "metadata": {
        "id": "rqAton2DutwC"
      },
      "execution_count": 4,
      "outputs": []
    },
    {
      "cell_type": "markdown",
      "source": [
        "### Performing cross-validation"
      ],
      "metadata": {
        "id": "dZrF1Go0u8At"
      }
    },
    {
      "cell_type": "code",
      "source": [
        "from sklearn.model_selection import cross_val_score # cross_val_score ->  function\n",
        "# FIVE arguments: model, X, y, cv, & scoring\n",
        "scores = cross_val_score(model, X, y, cv=kf, scoring='r2') # cv is the cross-validation splitting strategy"
      ],
      "metadata": {
        "id": "ibokuBMkvAGF"
      },
      "execution_count": 5,
      "outputs": []
    },
    {
      "cell_type": "markdown",
      "source": [
        "### Calculating the average R2 score"
      ],
      "metadata": {
        "id": "FPnuiiH1vZpO"
      }
    },
    {
      "cell_type": "code",
      "source": [
        "import numpy as np\n",
        "\n",
        "average_r2 = np.mean(scores)\n",
        "\n",
        "print(f\"R² Score for each fold: {[round(score, 4) for score in scores]}\")\n",
        "print(f\"Average R² across {k} folds: {average_r2:.2f}\")"
      ],
      "metadata": {
        "colab": {
          "base_uri": "https://localhost:8080/"
        },
        "id": "BJGQCy2CvdIY",
        "outputId": "8e968d5e-fea6-47c0-fc0f-2227925479cc"
      },
      "execution_count": 6,
      "outputs": [
        {
          "output_type": "stream",
          "name": "stdout",
          "text": [
            "R² Score for each fold: [0.5758, 0.6137, 0.6086, 0.6213, 0.5875]\n",
            "Average R² across 5 folds: 0.60\n"
          ]
        }
      ]
    },
    {
      "cell_type": "markdown",
      "source": [
        "### Displaying the final results"
      ],
      "metadata": {
        "id": "v4VJIztrvgsQ"
      }
    },
    {
      "cell_type": "code",
      "source": [
        "import matplotlib.pyplot as plt\n",
        "\n",
        "# Assuming you have the data and the scores already calculated\n",
        "feature_names = data.feature_names\n",
        "X = pd.DataFrame(data.data, columns=feature_names)\n",
        "\n",
        "plt.subplot(1, 2, 2)\n",
        "plt.plot(range(1, k+1), scores)\n",
        "plt.xlabel(\"Fold\")\n",
        "plt.ylabel(\"R² Score\")\n",
        "plt.title(\"R² Scores for Each Fold\")\n",
        "plt.show()"
      ],
      "metadata": {
        "colab": {
          "base_uri": "https://localhost:8080/",
          "height": 472
        },
        "id": "ORgHQJeSvk5C",
        "outputId": "e71fd862-52a2-4703-c55f-aed58c6ef603"
      },
      "execution_count": 11,
      "outputs": [
        {
          "output_type": "display_data",
          "data": {
            "text/plain": [
              "<Figure size 640x480 with 1 Axes>"
            ],
            "image/png": "[encoded data removed]"
          },
          "metadata": {}
        }
      ]
    }
  ]
}