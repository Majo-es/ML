{
  "nbformat": 4,
  "nbformat_minor": 0,
  "metadata": {
    "colab": {
      "provenance": []
    },
    "kernelspec": {
      "name": "python3",
      "display_name": "Python 3"
    },
    "language_info": {
      "name": "python"
    }
  },
  "cells": [
    {
      "cell_type": "code",
      "execution_count": null,
      "metadata": {
        "id": "GMcj0daZLtv5"
      },
      "outputs": [],
      "source": [
        "import numpy as np\n",
        "import pandas as pd\n",
        "from sklearn.datasets import load_iris\n",
        "\n",
        "# Load the Iris dataset\n",
        "iris = load_iris()\n",
        "X = iris.data\n",
        "y = iris.target"
      ]
    },
    {
      "cell_type": "markdown",
      "source": [
        "## Transformar el output en OneHot"
      ],
      "metadata": {
        "id": "_zpS7vDbqU1M"
      }
    },
    {
      "cell_type": "code",
      "source": [
        "from tensorflow.keras.utils import to_categorical"
      ],
      "metadata": {
        "id": "pzJ56FiRLuuh"
      },
      "execution_count": null,
      "outputs": []
    },
    {
      "cell_type": "code",
      "source": [
        "y_one_hot = to_categorical(y)"
      ],
      "metadata": {
        "id": "8tL_TlQSqqMK"
      },
      "execution_count": null,
      "outputs": []
    },
    {
      "cell_type": "markdown",
      "source": [
        "## Generación del modelo de clasificación"
      ],
      "metadata": {
        "id": "4bYiE5TNqj75"
      }
    },
    {
      "cell_type": "code",
      "source": [
        "from sklearn.model_selection import train_test_split\n",
        "from sklearn.preprocessing import LabelEncoder, StandardScaler\n",
        "from tensorflow.keras.models import Sequential\n",
        "from tensorflow.keras.layers import Dense"
      ],
      "metadata": {
        "id": "3PDbP9rgqhqR"
      },
      "execution_count": null,
      "outputs": []
    },
    {
      "cell_type": "code",
      "source": [
        "X_train, X_test, y_train, y_test = train_test_split(X, y_one_hot, test_size=0.2, random_state=42)\n",
        "\n",
        "\n",
        "model = Sequential()\n",
        "model.add(Dense(units=8, activation='relu', input_shape=(4,)))\n",
        "model.add(Dense(units=3, activation='softmax'))\n",
        "\n",
        "\n",
        "model.compile(optimizer='adam', loss='categorical_crossentropy', metrics=['accuracy'])\n",
        "model.fit(X_train, y_train, epochs=50, batch_size=32, validation_data=(X_test, y_test))\n",
        "\n",
        "loss, accuracy = model.evaluate(X_test, y_test)\n",
        "print(f'Test Loss: \\t{loss:.4f}')\n",
        "print(f'Test Accuracy: \\t{accuracy:.4f}')"
      ],
      "metadata": {
        "colab": {
          "base_uri": "https://localhost:8080/"
        },
        "id": "d3AU-DQaqsfA",
        "outputId": "f41899d5-a392-49e9-cfab-eb14923cc3a8"
      },
      "execution_count": null,
      "outputs": [
        {
          "output_type": "stream",
          "name": "stdout",
          "text": [
            "Epoch 1/50\n",
            "15/15 [==============================] - 3s 37ms/step - loss: 1.7167 - accuracy: 0.0167 - val_loss: 1.6553 - val_accuracy: 0.0333\n",
            "Epoch 2/50\n",
            "15/15 [==============================] - 0s 15ms/step - loss: 1.6439 - accuracy: 0.0333 - val_loss: 1.5939 - val_accuracy: 0.0333\n",
            "Epoch 3/50\n",
            "15/15 [==============================] - 0s 8ms/step - loss: 1.5792 - accuracy: 0.0417 - val_loss: 1.5364 - val_accuracy: 0.0333\n",
            "Epoch 4/50\n",
            "15/15 [==============================] - 0s 7ms/step - loss: 1.5198 - accuracy: 0.0500 - val_loss: 1.4821 - val_accuracy: 0.0667\n",
            "Epoch 5/50\n",
            "15/15 [==============================] - 0s 9ms/step - loss: 1.4631 - accuracy: 0.1083 - val_loss: 1.4295 - val_accuracy: 0.1000\n",
            "Epoch 6/50\n",
            "15/15 [==============================] - 0s 7ms/step - loss: 1.4117 - accuracy: 0.1333 - val_loss: 1.3803 - val_accuracy: 0.1000\n",
            "Epoch 7/50\n",
            "15/15 [==============================] - 0s 13ms/step - loss: 1.3633 - accuracy: 0.1750 - val_loss: 1.3333 - val_accuracy: 0.1333\n",
            "Epoch 8/50\n",
            "15/15 [==============================] - 0s 12ms/step - loss: 1.3156 - accuracy: 0.1917 - val_loss: 1.2922 - val_accuracy: 0.1667\n",
            "Epoch 9/50\n",
            "15/15 [==============================] - 0s 7ms/step - loss: 1.2714 - accuracy: 0.2083 - val_loss: 1.2496 - val_accuracy: 0.1667\n",
            "Epoch 10/50\n",
            "15/15 [==============================] - 0s 10ms/step - loss: 1.2289 - accuracy: 0.2250 - val_loss: 1.2105 - val_accuracy: 0.2000\n",
            "Epoch 11/50\n",
            "15/15 [==============================] - 0s 8ms/step - loss: 1.1890 - accuracy: 0.2333 - val_loss: 1.1731 - val_accuracy: 0.2667\n",
            "Epoch 12/50\n",
            "15/15 [==============================] - 0s 10ms/step - loss: 1.1511 - accuracy: 0.2833 - val_loss: 1.1416 - val_accuracy: 0.4333\n",
            "Epoch 13/50\n",
            "15/15 [==============================] - 0s 14ms/step - loss: 1.1179 - accuracy: 0.3000 - val_loss: 1.1034 - val_accuracy: 0.5000\n",
            "Epoch 14/50\n",
            "15/15 [==============================] - 0s 12ms/step - loss: 1.0806 - accuracy: 0.3167 - val_loss: 1.0750 - val_accuracy: 0.5000\n",
            "Epoch 15/50\n",
            "15/15 [==============================] - 0s 8ms/step - loss: 1.0501 - accuracy: 0.3833 - val_loss: 1.0444 - val_accuracy: 0.5333\n",
            "Epoch 16/50\n",
            "15/15 [==============================] - 0s 11ms/step - loss: 1.0193 - accuracy: 0.4833 - val_loss: 1.0169 - val_accuracy: 0.5667\n",
            "Epoch 17/50\n",
            "15/15 [==============================] - 0s 9ms/step - loss: 0.9940 - accuracy: 0.6417 - val_loss: 0.9897 - val_accuracy: 0.7667\n",
            "Epoch 18/50\n",
            "15/15 [==============================] - 0s 8ms/step - loss: 0.9661 - accuracy: 0.7667 - val_loss: 0.9688 - val_accuracy: 0.8333\n",
            "Epoch 19/50\n",
            "15/15 [==============================] - 0s 9ms/step - loss: 0.9423 - accuracy: 0.7750 - val_loss: 0.9442 - val_accuracy: 0.8000\n",
            "Epoch 20/50\n",
            "15/15 [==============================] - 0s 11ms/step - loss: 0.9194 - accuracy: 0.7417 - val_loss: 0.9242 - val_accuracy: 0.8000\n",
            "Epoch 21/50\n",
            "15/15 [==============================] - 0s 27ms/step - loss: 0.8996 - accuracy: 0.7500 - val_loss: 0.9047 - val_accuracy: 0.7000\n",
            "Epoch 22/50\n",
            "15/15 [==============================] - 0s 22ms/step - loss: 0.8788 - accuracy: 0.7250 - val_loss: 0.8860 - val_accuracy: 0.7000\n",
            "Epoch 23/50\n",
            "15/15 [==============================] - 0s 23ms/step - loss: 0.8605 - accuracy: 0.7333 - val_loss: 0.8690 - val_accuracy: 0.6333\n",
            "Epoch 24/50\n",
            "15/15 [==============================] - 0s 23ms/step - loss: 0.8447 - accuracy: 0.7250 - val_loss: 0.8533 - val_accuracy: 0.6667\n",
            "Epoch 25/50\n",
            "15/15 [==============================] - 0s 18ms/step - loss: 0.8292 - accuracy: 0.7167 - val_loss: 0.8381 - val_accuracy: 0.6333\n",
            "Epoch 26/50\n",
            "15/15 [==============================] - 0s 12ms/step - loss: 0.8150 - accuracy: 0.7167 - val_loss: 0.8232 - val_accuracy: 0.6000\n",
            "Epoch 27/50\n",
            "15/15 [==============================] - 0s 13ms/step - loss: 0.8007 - accuracy: 0.7250 - val_loss: 0.8118 - val_accuracy: 0.6333\n",
            "Epoch 28/50\n",
            "15/15 [==============================] - 0s 15ms/step - loss: 0.7884 - accuracy: 0.7083 - val_loss: 0.7981 - val_accuracy: 0.6333\n",
            "Epoch 29/50\n",
            "15/15 [==============================] - 0s 20ms/step - loss: 0.7763 - accuracy: 0.7083 - val_loss: 0.7860 - val_accuracy: 0.6333\n",
            "Epoch 30/50\n",
            "15/15 [==============================] - 0s 16ms/step - loss: 0.7651 - accuracy: 0.7083 - val_loss: 0.7747 - val_accuracy: 0.6333\n",
            "Epoch 31/50\n",
            "15/15 [==============================] - 0s 16ms/step - loss: 0.7532 - accuracy: 0.7083 - val_loss: 0.7660 - val_accuracy: 0.6333\n",
            "Epoch 32/50\n",
            "15/15 [==============================] - 0s 11ms/step - loss: 0.7436 - accuracy: 0.7000 - val_loss: 0.7563 - val_accuracy: 0.6333\n",
            "Epoch 33/50\n",
            "15/15 [==============================] - 0s 10ms/step - loss: 0.7339 - accuracy: 0.7000 - val_loss: 0.7477 - val_accuracy: 0.6333\n",
            "Epoch 34/50\n",
            "15/15 [==============================] - 0s 7ms/step - loss: 0.7246 - accuracy: 0.7083 - val_loss: 0.7357 - val_accuracy: 0.6333\n",
            "Epoch 35/50\n",
            "15/15 [==============================] - 0s 7ms/step - loss: 0.7154 - accuracy: 0.7000 - val_loss: 0.7263 - val_accuracy: 0.6333\n",
            "Epoch 36/50\n",
            "15/15 [==============================] - 0s 7ms/step - loss: 0.7063 - accuracy: 0.7000 - val_loss: 0.7187 - val_accuracy: 0.6333\n",
            "Epoch 37/50\n",
            "15/15 [==============================] - 0s 8ms/step - loss: 0.6978 - accuracy: 0.7000 - val_loss: 0.7089 - val_accuracy: 0.6333\n",
            "Epoch 38/50\n",
            "15/15 [==============================] - 0s 7ms/step - loss: 0.6902 - accuracy: 0.7083 - val_loss: 0.6973 - val_accuracy: 0.6333\n",
            "Epoch 39/50\n",
            "15/15 [==============================] - 0s 7ms/step - loss: 0.6809 - accuracy: 0.7250 - val_loss: 0.6905 - val_accuracy: 0.6333\n",
            "Epoch 40/50\n",
            "15/15 [==============================] - 0s 7ms/step - loss: 0.6731 - accuracy: 0.7333 - val_loss: 0.6824 - val_accuracy: 0.6333\n",
            "Epoch 41/50\n",
            "15/15 [==============================] - 0s 5ms/step - loss: 0.6662 - accuracy: 0.7333 - val_loss: 0.6764 - val_accuracy: 0.6333\n",
            "Epoch 42/50\n",
            "15/15 [==============================] - 0s 4ms/step - loss: 0.6576 - accuracy: 0.7250 - val_loss: 0.6656 - val_accuracy: 0.6333\n",
            "Epoch 43/50\n",
            "15/15 [==============================] - 0s 5ms/step - loss: 0.6504 - accuracy: 0.7333 - val_loss: 0.6563 - val_accuracy: 0.6000\n",
            "Epoch 44/50\n",
            "15/15 [==============================] - 0s 4ms/step - loss: 0.6429 - accuracy: 0.7333 - val_loss: 0.6500 - val_accuracy: 0.6333\n",
            "Epoch 45/50\n",
            "15/15 [==============================] - 0s 5ms/step - loss: 0.6359 - accuracy: 0.7333 - val_loss: 0.6417 - val_accuracy: 0.6333\n",
            "Epoch 46/50\n",
            "15/15 [==============================] - 0s 4ms/step - loss: 0.6302 - accuracy: 0.7333 - val_loss: 0.6335 - val_accuracy: 0.7667\n",
            "Epoch 47/50\n",
            "15/15 [==============================] - 0s 4ms/step - loss: 0.6219 - accuracy: 0.7583 - val_loss: 0.6275 - val_accuracy: 0.7667\n",
            "Epoch 48/50\n",
            "15/15 [==============================] - 0s 5ms/step - loss: 0.6154 - accuracy: 0.7500 - val_loss: 0.6196 - val_accuracy: 0.7667\n",
            "Epoch 49/50\n",
            "15/15 [==============================] - 0s 4ms/step - loss: 0.6092 - accuracy: 0.7667 - val_loss: 0.6123 - val_accuracy: 0.8000\n",
            "Epoch 50/50\n",
            "15/15 [==============================] - 0s 4ms/step - loss: 0.6048 - accuracy: 0.7333 - val_loss: 0.6088 - val_accuracy: 0.7333\n",
            "1/1 [==============================] - 0s 27ms/step - loss: 0.6088 - accuracy: 0.7333\n",
            "Test Loss: 0.6088\n",
            "Test Accuracy: 0.7333\n"
          ]
        }
      ]
    }
  ]
}