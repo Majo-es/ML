{
  "nbformat": 4,
  "nbformat_minor": 0,
  "metadata": {
    "colab": {
      "provenance": []
    },
    "kernelspec": {
      "name": "python3",
      "display_name": "Python 3"
    },
    "language_info": {
      "name": "python"
    }
  },
  "cells": [
    {
      "cell_type": "code",
      "execution_count": null,
      "metadata": {
        "id": "ZnwyJbokV6rh"
      },
      "outputs": [],
      "source": [
        "from sklearn.model_selection import train_test_split\n",
        "from sklearn.linear_model import LinearRegression\n",
        "from sklearn.metrics import mean_squared_error\n",
        "import pandas as pd\n",
        "import matplotlib.pyplot as plt\n",
        "\n",
        "# Load the Boston Housing dataset\n",
        "df = pd.read_csv(\"https://raw.githubusercontent.com/selva86/datasets/master/Sacramento.csv\")"
      ]
    },
    {
      "cell_type": "markdown",
      "source": [
        "## Creación de la red neuronal y evaluación\n",
        "\n"
      ],
      "metadata": {
        "id": "nTSBDFSHLIFg"
      }
    },
    {
      "cell_type": "code",
      "source": [
        "import tensorflow as tf\n",
        "from sklearn.model_selection import train_test_split\n",
        "from sklearn.preprocessing import StandardScaler\n",
        "\n",
        "numerical_features = ['sqft', 'beds', 'baths']"
      ],
      "metadata": {
        "id": "vajs9t1Roc5p"
      },
      "execution_count": null,
      "outputs": []
    },
    {
      "cell_type": "code",
      "source": [
        "features = df[numerical_features]\n",
        "labels = df['price']\n",
        "\n",
        "scaler = StandardScaler()\n",
        "features_scaled = scaler.fit_transform(features)\n",
        "\n",
        "X_train, X_test, y_train, y_test = train_test_split(features_scaled, labels, test_size=0.2, random_state=42)"
      ],
      "metadata": {
        "id": "i2vxnVHioyne"
      },
      "execution_count": null,
      "outputs": []
    },
    {
      "cell_type": "code",
      "source": [
        "\n",
        "model = tf.keras.Sequential([\n",
        "    tf.keras.layers.Dense(64, activation='relu', input_shape=(X_train.shape[1],)),\n",
        "    tf.keras.layers.Dense(32, activation='relu'),\n",
        "    tf.keras.layers.Dense(1)  # Capa de salida sin función de activación para la regresión\n",
        "])\n",
        "\n",
        "model.compile(optimizer='adam', loss='mean_squared_error', metrics=['mae'])\n",
        "model.fit(X_train, y_train, epochs=50, batch_size=32, validation_data=(X_test, y_test))\n",
        "\n",
        "loss, mae = model.evaluate(X_test, y_test)\n",
        "print(f'Loss en el conjunto de prueba: {loss}')\n",
        "print(f'MAE en el conjunto de prueba: {mae}')"
      ],
      "metadata": {
        "id": "mzj3DIbaWaYA",
        "colab": {
          "base_uri": "https://localhost:8080/"
        },
        "outputId": "807a4ea9-b8d4-438f-cea3-f78d8ced2e51"
      },
      "execution_count": null,
      "outputs": [
        {
          "output_type": "stream",
          "name": "stdout",
          "text": [
            "Epoch 1/50\n",
            "24/24 [==============================] - 1s 10ms/step - loss: 77493215232.0000 - mae: 245733.5156 - val_loss: 80106381312.0000 - val_mae: 250357.1562\n",
            "Epoch 2/50\n",
            "24/24 [==============================] - 0s 4ms/step - loss: 77492723712.0000 - mae: 245732.6250 - val_loss: 80105693184.0000 - val_mae: 250355.9375\n",
            "Epoch 3/50\n",
            "24/24 [==============================] - 0s 4ms/step - loss: 77491814400.0000 - mae: 245731.0000 - val_loss: 80104415232.0000 - val_mae: 250353.6250\n",
            "Epoch 4/50\n",
            "24/24 [==============================] - 0s 4ms/step - loss: 77490167808.0000 - mae: 245728.1094 - val_loss: 80102137856.0000 - val_mae: 250349.6094\n",
            "Epoch 5/50\n",
            "24/24 [==============================] - 0s 4ms/step - loss: 77487341568.0000 - mae: 245723.0156 - val_loss: 80098353152.0000 - val_mae: 250342.8438\n",
            "Epoch 6/50\n",
            "24/24 [==============================] - 0s 3ms/step - loss: 77482786816.0000 - mae: 245714.8750 - val_loss: 80092397568.0000 - val_mae: 250332.2969\n",
            "Epoch 7/50\n",
            "24/24 [==============================] - 0s 3ms/step - loss: 77475807232.0000 - mae: 245702.5938 - val_loss: 80083763200.0000 - val_mae: 250317.0000\n",
            "Epoch 8/50\n",
            "24/24 [==============================] - 0s 3ms/step - loss: 77465993216.0000 - mae: 245685.0625 - val_loss: 80071729152.0000 - val_mae: 250295.7500\n",
            "Epoch 9/50\n",
            "24/24 [==============================] - 0s 4ms/step - loss: 77452820480.0000 - mae: 245661.7812 - val_loss: 80055836672.0000 - val_mae: 250267.7656\n",
            "Epoch 10/50\n",
            "24/24 [==============================] - 0s 3ms/step - loss: 77435568128.0000 - mae: 245631.1562 - val_loss: 80035217408.0000 - val_mae: 250231.6719\n",
            "Epoch 11/50\n",
            "24/24 [==============================] - 0s 4ms/step - loss: 77413302272.0000 - mae: 245592.5625 - val_loss: 80009674752.0000 - val_mae: 250186.9375\n",
            "Epoch 12/50\n",
            "24/24 [==============================] - 0s 3ms/step - loss: 77385981952.0000 - mae: 245545.0781 - val_loss: 79978561536.0000 - val_mae: 250132.5312\n",
            "Epoch 13/50\n",
            "24/24 [==============================] - 0s 3ms/step - loss: 77353320448.0000 - mae: 245487.7031 - val_loss: 79941869568.0000 - val_mae: 250068.1562\n",
            "Epoch 14/50\n",
            "24/24 [==============================] - 0s 3ms/step - loss: 77314760704.0000 - mae: 245421.1250 - val_loss: 79897329664.0000 - val_mae: 249990.5312\n",
            "Epoch 15/50\n",
            "24/24 [==============================] - 0s 4ms/step - loss: 77269270528.0000 - mae: 245341.6875 - val_loss: 79846612992.0000 - val_mae: 249901.6406\n",
            "Epoch 16/50\n",
            "24/24 [==============================] - 0s 3ms/step - loss: 77216915456.0000 - mae: 245250.2188 - val_loss: 79787687936.0000 - val_mae: 249799.0625\n",
            "Epoch 17/50\n",
            "24/24 [==============================] - 0s 4ms/step - loss: 77156466688.0000 - mae: 245146.2812 - val_loss: 79723257856.0000 - val_mae: 249685.7344\n",
            "Epoch 18/50\n",
            "24/24 [==============================] - 0s 4ms/step - loss: 77090037760.0000 - mae: 245029.1719 - val_loss: 79646449664.0000 - val_mae: 249552.0781\n",
            "Epoch 19/50\n",
            "24/24 [==============================] - 0s 4ms/step - loss: 77012508672.0000 - mae: 244894.0312 - val_loss: 79561744384.0000 - val_mae: 249404.0469\n",
            "Epoch 20/50\n",
            "24/24 [==============================] - 0s 3ms/step - loss: 76927901696.0000 - mae: 244745.9844 - val_loss: 79469846528.0000 - val_mae: 249242.7188\n",
            "Epoch 21/50\n",
            "24/24 [==============================] - 0s 3ms/step - loss: 76834234368.0000 - mae: 244584.8906 - val_loss: 79369469952.0000 - val_mae: 249066.4219\n",
            "Epoch 22/50\n",
            "24/24 [==============================] - 0s 4ms/step - loss: 76733038592.0000 - mae: 244406.3594 - val_loss: 79256756224.0000 - val_mae: 248868.9688\n",
            "Epoch 23/50\n",
            "24/24 [==============================] - 0s 3ms/step - loss: 76619374592.0000 - mae: 244207.0781 - val_loss: 79135145984.0000 - val_mae: 248655.1250\n",
            "Epoch 24/50\n",
            "24/24 [==============================] - 0s 3ms/step - loss: 76495437824.0000 - mae: 243992.6406 - val_loss: 79000420352.0000 - val_mae: 248419.2500\n",
            "Epoch 25/50\n",
            "24/24 [==============================] - 0s 4ms/step - loss: 76364029952.0000 - mae: 243760.4531 - val_loss: 78855626752.0000 - val_mae: 248164.8281\n",
            "Epoch 26/50\n",
            "24/24 [==============================] - 0s 4ms/step - loss: 76220506112.0000 - mae: 243506.9219 - val_loss: 78699896832.0000 - val_mae: 247891.4844\n",
            "Epoch 27/50\n",
            "24/24 [==============================] - 0s 3ms/step - loss: 76065456128.0000 - mae: 243238.5781 - val_loss: 78538039296.0000 - val_mae: 247604.1875\n",
            "Epoch 28/50\n",
            "24/24 [==============================] - 0s 4ms/step - loss: 75900706816.0000 - mae: 242945.5000 - val_loss: 78355398656.0000 - val_mae: 247283.8438\n",
            "Epoch 29/50\n",
            "24/24 [==============================] - 0s 3ms/step - loss: 75722997760.0000 - mae: 242636.6094 - val_loss: 78164025344.0000 - val_mae: 246946.2656\n",
            "Epoch 30/50\n",
            "24/24 [==============================] - 0s 4ms/step - loss: 75532099584.0000 - mae: 242302.5781 - val_loss: 77964492800.0000 - val_mae: 246592.7344\n",
            "Epoch 31/50\n",
            "24/24 [==============================] - 0s 4ms/step - loss: 75329183744.0000 - mae: 241947.3594 - val_loss: 77755506688.0000 - val_mae: 246219.8125\n",
            "Epoch 32/50\n",
            "24/24 [==============================] - 0s 4ms/step - loss: 75118231552.0000 - mae: 241570.9688 - val_loss: 77516906496.0000 - val_mae: 245799.7656\n",
            "Epoch 33/50\n",
            "24/24 [==============================] - 0s 5ms/step - loss: 74889895936.0000 - mae: 241169.8281 - val_loss: 77276774400.0000 - val_mae: 245374.0156\n",
            "Epoch 34/50\n",
            "24/24 [==============================] - 0s 4ms/step - loss: 74656669696.0000 - mae: 240749.4688 - val_loss: 77021995008.0000 - val_mae: 244920.4688\n",
            "Epoch 35/50\n",
            "24/24 [==============================] - 0s 3ms/step - loss: 74404610048.0000 - mae: 240309.0625 - val_loss: 76757475328.0000 - val_mae: 244447.6719\n",
            "Epoch 36/50\n",
            "24/24 [==============================] - 0s 3ms/step - loss: 74141622272.0000 - mae: 239841.2188 - val_loss: 76479668224.0000 - val_mae: 243949.9844\n",
            "Epoch 37/50\n",
            "24/24 [==============================] - 0s 3ms/step - loss: 73864486912.0000 - mae: 239350.8906 - val_loss: 76187828224.0000 - val_mae: 243427.2031\n",
            "Epoch 38/50\n",
            "24/24 [==============================] - 0s 4ms/step - loss: 73578233856.0000 - mae: 238838.5938 - val_loss: 75879677952.0000 - val_mae: 242874.5469\n",
            "Epoch 39/50\n",
            "24/24 [==============================] - 0s 4ms/step - loss: 73277849600.0000 - mae: 238302.5469 - val_loss: 75568553984.0000 - val_mae: 242310.7812\n",
            "Epoch 40/50\n",
            "24/24 [==============================] - 0s 4ms/step - loss: 72967561216.0000 - mae: 237744.7656 - val_loss: 75237507072.0000 - val_mae: 241711.7812\n",
            "Epoch 41/50\n",
            "24/24 [==============================] - 0s 3ms/step - loss: 72644526080.0000 - mae: 237164.8594 - val_loss: 74893574144.0000 - val_mae: 241087.0156\n",
            "Epoch 42/50\n",
            "24/24 [==============================] - 0s 4ms/step - loss: 72305188864.0000 - mae: 236544.8750 - val_loss: 74532151296.0000 - val_mae: 240430.1406\n",
            "Epoch 43/50\n",
            "24/24 [==============================] - 0s 4ms/step - loss: 71953342464.0000 - mae: 235912.2031 - val_loss: 74163748864.0000 - val_mae: 239757.3438\n",
            "Epoch 44/50\n",
            "24/24 [==============================] - 0s 4ms/step - loss: 71593664512.0000 - mae: 235254.7812 - val_loss: 73780314112.0000 - val_mae: 239056.2969\n",
            "Epoch 45/50\n",
            "24/24 [==============================] - 0s 4ms/step - loss: 71215726592.0000 - mae: 234564.1719 - val_loss: 73379979264.0000 - val_mae: 238319.3125\n",
            "Epoch 46/50\n",
            "24/24 [==============================] - 0s 3ms/step - loss: 70825566208.0000 - mae: 233850.3750 - val_loss: 72972582912.0000 - val_mae: 237566.0312\n",
            "Epoch 47/50\n",
            "24/24 [==============================] - 0s 4ms/step - loss: 70421602304.0000 - mae: 233112.9844 - val_loss: 72555511808.0000 - val_mae: 236792.5312\n",
            "Epoch 48/50\n",
            "24/24 [==============================] - 0s 3ms/step - loss: 70009348096.0000 - mae: 232348.2031 - val_loss: 72107311104.0000 - val_mae: 235960.5156\n",
            "Epoch 49/50\n",
            "24/24 [==============================] - 0s 4ms/step - loss: 69567332352.0000 - mae: 231546.8906 - val_loss: 71652663296.0000 - val_mae: 235113.9844\n",
            "Epoch 50/50\n",
            "24/24 [==============================] - 0s 3ms/step - loss: 69126758400.0000 - mae: 230712.0781 - val_loss: 71185702912.0000 - val_mae: 234238.2500\n",
            "6/6 [==============================] - 0s 3ms/step - loss: 71185702912.0000 - mae: 234238.2500\n",
            "Loss en el conjunto de prueba: 71185702912.0\n",
            "MAE en el conjunto de prueba: 234238.25\n"
          ]
        }
      ]
    },
    {
      "cell_type": "code",
      "source": [],
      "metadata": {
        "id": "HtbWG_iHxdqC"
      },
      "execution_count": null,
      "outputs": []
    }
  ]
}